{
 "cells": [
  {
   "cell_type": "markdown",
   "metadata": {},
   "source": [
    "## Imports & Helpers"
   ]
  },
  {
   "cell_type": "code",
   "execution_count": 6,
   "metadata": {},
   "outputs": [],
   "source": [
    "from gnpy.core.utils import load_json\n",
    "from convert import convert_file\n",
    "from gnpy.core.equipment import *\n",
    "from argparse import ArgumentParser\n",
    "from sys import exit\n",
    "from pathlib import Path\n",
    "from logging import getLogger, basicConfig, INFO, ERROR, DEBUG\n",
    "\n",
    "from matplotlib.pyplot import show, axis, figure, title\n",
    "from networkx import (draw_networkx_nodes, draw_networkx_edges,\n",
    "                      draw_networkx_labels, dijkstra_path)\n",
    "\n",
    "from gnpy.core import network_from_json, build_network\n",
    "from gnpy.core.elements import Transceiver, Fiber, Edfa\n",
    "from gnpy.core.info import SpectralInformation, Channel, Power\n",
    "from os import getcwd"
   ]
  },
  {
   "cell_type": "code",
   "execution_count": 8,
   "metadata": {},
   "outputs": [],
   "source": [
    "logger = getLogger(__package__ or __name__)\n",
    "eqpt_library = {}\n",
    "EQPT_LIBRARY_FILENAME = Path(getcwd()) / 'eqpt_config.json'"
   ]
  },
  {
   "cell_type": "code",
   "execution_count": 9,
   "metadata": {},
   "outputs": [],
   "source": [
    "def format_si(spectral_infos):\n",
    "    return '\\n'.join([\n",
    "        f'#{idx} Carrier(frequency={c.frequency},\\n  power=Power(signal={c.power.signal}, nli={c.power.nli}, ase={c.power.ase}))'\n",
    "        for idx, si in sorted(set(spectral_infos))\n",
    "        for c in set(si.carriers)\n",
    "    ])"
   ]
  },
  {
   "cell_type": "code",
   "execution_count": 10,
   "metadata": {},
   "outputs": [],
   "source": [
    "def plot_network_graph(network, path, source, sink):\n",
    "    nodelist = [n for n in network.nodes() if isinstance(n, (Transceiver, Fiber))]\n",
    "    pathnodes = [n for n in path if isinstance(n, (Transceiver, Fiber))]\n",
    "    edgelist = [(u, v) for u, v in zip(pathnodes, pathnodes[1:])]\n",
    "    node_color = ['#ff0000' if n is source or n is sink else\n",
    "                  '#900000' if n in path else '#ffdfdf'\n",
    "                  for n in nodelist]\n",
    "    edge_color = ['#ff9090' if u in path and v in path else '#ababab'\n",
    "                  for u, v in edgelist]\n",
    "    labels = {n: n.location.city if isinstance(n, Transceiver) else ''\n",
    "              for n in pathnodes}\n",
    "\n",
    "    fig = figure()\n",
    "    pos = {n: (n.lng, n.lat) for n in nodelist}\n",
    "    kwargs = {'figure': fig, 'pos': pos}\n",
    "    plot = draw_networkx_nodes(network, nodelist=nodelist, node_color=node_color, **kwargs)\n",
    "    draw_networkx_edges(network, edgelist=edgelist, edge_color=edge_color, **kwargs)\n",
    "    draw_networkx_labels(network, labels=labels, font_size=14, **kwargs)\n",
    "    title(f'Propagating from {source.loc.city} to {sink.loc.city}')\n",
    "    axis('off')\n",
    "    show()"
   ]
  },
  {
   "cell_type": "markdown",
   "metadata": {},
   "source": [
    "# Main Example"
   ]
  },
  {
   "cell_type": "code",
   "execution_count": 13,
   "metadata": {},
   "outputs": [],
   "source": [
    "NETWORK = 'edfa_example_network.json'\n",
    "SOURCE = ''\n",
    "SINK = ''"
   ]
  },
  {
   "cell_type": "code",
   "execution_count": 15,
   "metadata": {},
   "outputs": [
    {
     "name": "stdout",
     "output_type": "stream",
     "text": [
      "invalid souce node specified: '', replaced with Transceiver Site_A\n",
      "invalid destination node specified: '', replaced with Transceiver Site_B\n",
      "There are 4 network elements between Transceiver Site_A and Transceiver Site_B\n",
      "Transceiver Site_A\n",
      "Fiber Span1\n",
      "  length (m): 80000.00\n",
      "  loss (dB):  16.00\n",
      "Edfa Edfa1\n",
      "  type_variety:      std_low_gain\n",
      "  gain (dB):         16.00\n",
      "  noise figure (dB): 7.12\n",
      "  Power In (dBm):    3.83\n",
      "  Power Out (dBm):   19.83\n",
      "Transceiver Site_B\n",
      "  OSNR ASE (1nm):        34.83\n",
      "  OSNR ASE (signal bw):  30.75\n",
      "  SNR total (signal bw): 27.36\n"
     ]
    },
    {
     "data": {
      "image/png": "[encoded data removed]",
      "text/plain": [
       "<matplotlib.figure.Figure at 0x7f4358d7dcf8>"
      ]
     },
     "metadata": {},
     "output_type": "display_data"
    }
   ],
   "source": [
    "input_filename = NETWORK\n",
    "split_filename = input_filename.split(\".\")\n",
    "json_filename = split_filename[0]+'.json'\n",
    "try:\n",
    "    assert split_filename[1] in ('json','xls','csv','xlsm')\n",
    "except AssertionError as e:\n",
    "    print(f'invalid file extension .{split_filename[1]}')\n",
    "    raise e\n",
    "if split_filename[1] != 'json':\n",
    "    print(f'parse excel input to {json_filename}')\n",
    "    convert_file(input_filename)\n",
    "\n",
    "json_data = load_json(json_filename)\n",
    "read_eqpt_library(EQPT_LIBRARY_FILENAME)\n",
    "\n",
    "network = network_from_json(json_data)\n",
    "build_network(network)\n",
    "\n",
    "spacing = 0.05 #THz\n",
    "si = SpectralInformation() # !! SI units W, Hz\n",
    "si = si.update(carriers=tuple(Channel(f, (191.3+spacing*f)*1e12, \n",
    "        32e9, 0.15, Power(1e-3, 0, 0)) for f in range(1,97)))\n",
    "\n",
    "trx = [n for n in network.nodes() if isinstance(n, Transceiver)]\n",
    "    \n",
    "try:\n",
    "    source = next(el for el in trx if el.uid == SOURCE)\n",
    "except StopIteration as e:\n",
    "    source = trx[0]\n",
    "    print(f'invalid souce node specified: {SOURCE!r}, replaced with {source}')\n",
    "\n",
    "try:\n",
    "    sink = next(el for el in trx if el.uid == SINK)\n",
    "except StopIteration as e:\n",
    "    sink = trx[1]\n",
    "    print(f'invalid destination node specified: {SINK!r}, replaced with {sink}')\n",
    "\n",
    "path = dijkstra_path(network, source, sink)\n",
    "print(f'There are {len(path)} network elements between {source} and {sink}')\n",
    "\n",
    "for el in path:\n",
    "    si = el(si)\n",
    "    print(el)\n",
    "\n",
    "plot_network_graph(network, path, source, sink)"
   ]
  }
 ],
 "metadata": {
  "kernelspec": {
   "display_name": "Python 3",
   "language": "python",
   "name": "python3"
  },
  "language_info": {
   "codemirror_mode": {
    "name": "ipython",
    "version": 3
   },
   "file_extension": ".py",
   "mimetype": "text/x-python",
   "name": "python",
   "nbconvert_exporter": "python",
   "pygments_lexer": "ipython3",
   "version": "3.6.5"
  }
 },
 "nbformat": 4,
 "nbformat_minor": 2
}
